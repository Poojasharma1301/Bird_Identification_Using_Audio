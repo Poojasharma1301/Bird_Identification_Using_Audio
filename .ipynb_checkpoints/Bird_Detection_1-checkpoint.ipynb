{
 "cells": [
  {
   "cell_type": "code",
   "execution_count": 1,
   "metadata": {
    "id": "4dNRn3OgQNhc"
   },
   "outputs": [],
   "source": [
    "#Install all the Reqiuired Libraries and Packages \n",
    "import os\n",
    "import glob\n",
    "from tqdm import tqdm\n",
    "import pandas as pd\n",
    "import numpy as np\n",
    "import matplotlib.pyplot as plt\n",
    "from scipy.io import wavfile\n",
    "from python_speech_features import mfcc , logfbank\n",
    "import librosa as lr\n",
    "import os, glob, pickle\n",
    "import librosa\n",
    "from scipy import signal\n",
    "import noisereduce as nr\n",
    "from glob import glob\n",
    "import librosa\n",
    "get_ipython().magic('matplotlib inline')"
   ]
  },
  {
   "cell_type": "code",
   "execution_count": 3,
   "metadata": {
    "id": "smWEZT7EXSoT"
   },
   "outputs": [],
   "source": [
    "#All the Required Packages and Libraies are installed.\n",
    "import soundfile\n",
    "from tensorflow.keras.layers import Conv2D,MaxPool2D, Flatten, LSTM\n",
    "from keras.layers import Dropout,Dense,TimeDistributed\n",
    "from keras.models import Sequential\n",
    "#from keras.utils import to_categorical \n",
    "from sklearn.utils.class_weight import compute_class_weight\n",
    "from sklearn.model_selection import train_test_split\n",
    "from sklearn.neural_network import MLPClassifier\n",
    "from sklearn.metrics import accuracy_score"
   ]
  },
  {
   "cell_type": "code",
   "execution_count": 5,
   "metadata": {
    "colab": {
     "base_uri": "https://localhost:8080/"
    },
    "id": "0PkasViUY6ZJ",
    "outputId": "929414a6-7020-45cc-bb22-f2519c5b8638"
   },
   "outputs": [
    {
     "data": {
      "text/plain": [
       "372"
      ]
     },
     "execution_count": 5,
     "metadata": {},
     "output_type": "execute_result"
    }
   ],
   "source": [
    "os.listdir(path=r'C:\\Users\\Pooja\\Downloads\\Webapp Project_3\\data')\n",
    "def getListOfFiles(dirName):\n",
    "    listOfFile=os.listdir(dirName)\n",
    "    allFiles=list()\n",
    "    for entry in listOfFile:\n",
    "        fullPath=os.path.join(dirName, entry)\n",
    "        if os.path.isdir(fullPath):\n",
    "            allFiles=allFiles + getListOfFiles(fullPath)\n",
    "        else:\n",
    "            allFiles.append(fullPath)\n",
    "    return allFiles\n",
    "\n",
    "dirName = r'C:\\Users\\Pooja\\Downloads\\Webapp Project_3\\data'\n",
    "listOfFiles = getListOfFiles(dirName)\n",
    "len(listOfFiles)"
   ]
  },
  {
   "cell_type": "code",
   "execution_count": 6,
   "metadata": {
    "id": "uYFLdqvzY_1t"
   },
   "outputs": [],
   "source": [
    "def envelope(y , rate, threshold):\n",
    "    mask=[]\n",
    "    y=pd.Series(y).apply(np.abs)\n",
    "    y_mean = y.rolling(window=int(rate/10) ,  min_periods=1 , center = True).mean()\n",
    "    for mean in y_mean:\n",
    "        if mean>threshold:\n",
    "            mask.append(True)\n",
    "        else:\n",
    "            mask.append(False)\n",
    "    return mask"
   ]
  },
  {
   "cell_type": "code",
   "execution_count": 7,
   "metadata": {
    "id": "5ae56fce"
   },
   "outputs": [],
   "source": [
    "#Next Step is In-Depth Visualisation of Audio Fiels and its certain features to plot for.\n",
    "#They are the Plotting Functions to be called later. \n",
    "def plot_signals(signals):\n",
    "    fig , axes = plt.subplots(nrows=2, ncols=5,sharex =False , sharey=True, figsize=(20,5))\n",
    "    fig.suptitle('Time Series' , size=16)\n",
    "    i=0\n",
    "    for x in range(2):\n",
    "        for y in range(5):\n",
    "            axes[x,y].set_title(list(signals.keys())[i])\n",
    "            axes[x,y].plot(list(signals.values())[i])\n",
    "            axes[x,y].get_xaxis().set_visible(False)\n",
    "            axes[x,y].get_yaxis().set_visible(False)\n",
    "            i +=1\n",
    "\n",
    "def plot_fft(fft):\n",
    "    fig , axes = plt.subplots(nrows=2, ncols=5,sharex =False , sharey=True, figsize=(20,5))\n",
    "    fig.suptitle('Fourier Transform' , size=16)\n",
    "    i=0\n",
    "    for x in range(2):\n",
    "        for y in range(5):\n",
    "            data = list(fft.values())[i]\n",
    "            Y,freq = data[0] , data[1]\n",
    "            axes[x,y].set_title(list(fft.keys())[i])\n",
    "            axes[x,y].plot(freq , Y)\n",
    "            axes[x,y].get_xaxis().set_visible(False)\n",
    "            axes[x,y].get_yaxis().set_visible(False)\n",
    "            i +=1\n",
    "    \n",
    "def plot_fbank(fbank):\n",
    "    fig , axes = plt.subplots(nrows=2, ncols=5,sharex =False , sharey=True, figsize=(20,5))\n",
    "    fig.suptitle('Filter Bank Coefficients' , size=16)\n",
    "    i=0\n",
    "    for x in range(2):\n",
    "        for y in range(5):\n",
    "            axes[x,y].set_title(list(fbank.keys())[i])\n",
    "            axes[x,y].imshow(list(fbank.values())[i],cmap='hot', interpolation = 'nearest')\n",
    "            axes[x,y].get_xaxis().set_visible(False)\n",
    "            axes[x,y].get_yaxis().set_visible(False)\n",
    "            i +=1\n",
    "            \n",
    "def plot_mfccs(mfccs):\n",
    "    fig , axes = plt.subplots(nrows=2, ncols=5,sharex =False , sharey=True, figsize=(20,5))\n",
    "    fig.suptitle('Mel Frequency Capstrum  Coefficients' , size=16)\n",
    "    i=0\n",
    "    for x in range(2):\n",
    "        for y in range(5):\n",
    "            axes[x,y].set_title(list(mfccs.keys())[i])\n",
    "            axes[x,y].imshow(list(mfccs.values())[i],\n",
    "                             cmap='hot', interpolation = 'nearest')\n",
    "            axes[x,y].get_xaxis().set_visible(False)\n",
    "            axes[x,y].get_yaxis().set_visible(False)\n",
    "            i +=1\n",
    "\n",
    "def calc_fft(y,rate):\n",
    "    n = len(y)\n",
    "    freq = np.fft.rfftfreq(n , d= 1/rate)\n",
    "    Y= abs(np.fft.rfft(y)/n)\n",
    "    return(Y,freq)"
   ]
  },
  {
   "cell_type": "code",
   "execution_count": 8,
   "metadata": {
    "id": "lHoohhHPcDKj"
   },
   "outputs": [],
   "source": [
    "#Now Cleaning Step is Performed where:\n",
    "#DOWN SAMPLING OF AUDIO FILES IS DONE  AND PUT MASK OVER IT AND DIRECT INTO CLEAN FOLDER\n",
    "#MASK IS TO REMOVE UNNECESSARY EMPTY VOIVES AROUND THE MAIN AUDIO VOICE \n",
    "def envelope(y , rate, threshold):\n",
    "    mask=[]\n",
    "    y=pd.Series(y).apply(np.abs)\n",
    "    y_mean = y.rolling(window=int(rate/10) ,  min_periods=1 , center = True).mean()\n",
    "    for mean in y_mean:\n",
    "        if mean>threshold:\n",
    "            mask.append(True)\n",
    "        else:\n",
    "            mask.append(False)\n",
    "    return mask"
   ]
  },
  {
   "cell_type": "code",
   "execution_count": 13,
   "metadata": {
    "colab": {
     "base_uri": "https://localhost:8080/"
    },
    "id": "UNlqWR_WcKRi",
    "outputId": "e65e3fb0-ac7e-4dba-dd1a-35cf719bcf5f"
   },
   "outputs": [
    {
     "name": "stderr",
     "output_type": "stream",
     "text": [
      "100%|████████████████████████████████████████████████████████████████████████████████| 372/372 [00:39<00:00,  9.45it/s]\n"
     ]
    }
   ],
   "source": [
    "#The clean Audio Files are redirected to Clean Audio Folder Directory \n",
    "import glob,pickle\n",
    "for file in tqdm(glob.glob(r'data\\\\**\\\\*.wav')):\n",
    "    file_name = os.path.basename(file)\n",
    "    signal , rate = librosa.load(file, sr=16000)\n",
    "    mask = envelope(signal,rate, 0.0005)\n",
    "    wavfile.write(filename= 'clean_speech\\\\'+str(file_name), rate=rate,data=signal[mask])"
   ]
  },
  {
   "cell_type": "code",
   "execution_count": 14,
   "metadata": {
    "id": "Lf8vja7TcPBI"
   },
   "outputs": [],
   "source": [
    " #Feature Extraction of Audio Files Function \n",
    "#Extract features (mfcc, chroma, mel) from a sound file\n",
    "def extract_feature(file_name, mfcc, chroma, mel):\n",
    "    with soundfile.SoundFile(file_name) as sound_file:\n",
    "        X = sound_file.read(dtype=\"float32\")\n",
    "        sample_rate=sound_file.samplerate\n",
    "        if chroma:\n",
    "            stft=np.abs(librosa.stft(X))\n",
    "        result=np.array([])\n",
    "        if mfcc:\n",
    "            mfccs=np.mean(librosa.feature.mfcc(y=X, sr=sample_rate, n_mfcc=40).T, axis=0)\n",
    "        result=np.hstack((result, mfccs))\n",
    "        if chroma:\n",
    "            chroma=np.mean(librosa.feature.chroma_stft(S=stft, sr=sample_rate).T,axis=0)\n",
    "        result=np.hstack((result, chroma))\n",
    "        if mel:\n",
    "            mel=np.mean(librosa.feature.melspectrogram(X, sr=sample_rate).T,axis=0)\n",
    "        result=np.hstack((result, mel))\n",
    "    return result"
   ]
  },
  {
   "cell_type": "code",
   "execution_count": 15,
   "metadata": {
    "id": "a0Rbqh6yQI8l"
   },
   "outputs": [],
   "source": [
    "birds = {'11713':'Dendrocopos major',\n",
    "         '11846':'Chloris chloris',\n",
    "         '12577':'Corvus frugilegus',\n",
    "         '12578':'Coccothraustes coccothraustes',\n",
    "         '12876':'Columba palumbus',\n",
    "         '12996':'Delichon urbicum',\n",
    "         '13164':'Apus apus',\n",
    "         '13602':'Sitta europaea',\n",
    "         '13608':'Corvus monedula',\n",
    "         '13609':'Phoenicurus ochruros',\n",
    "         '13610':'Turdus merula',\n",
    "         '14172':'Turdus pilaris',\n",
    "         '14212':'Passer montanus',\n",
    "         '14213':'Phylloscopus trochilus',\n",
    "         '14231':'Phylloscopus collybita',\n",
    "         '14426':'Phoenicurus phoenicurus',\n",
    "         '14442':'Motacilla alba',\n",
    "         '14518':'Erithacus rubecula',\n",
    "         '14844':'Streptopelia decaocto',\n",
    "         '15245':'Parus major',\n",
    "         '15269':'Parus caeruleus',\n",
    "         '15270':'Alauda arvensis',\n",
    "         '18125':'Luscinia luscinia',\n",
    "         '18247':'Garrulus glandarius',\n",
    "         '18344':'Turdus philomelos',\n",
    "         '18387':'Pica pica',\n",
    "         '18388':'Troglodytes troglodytes',\n",
    "         '18483':'Carduelis carduelis',\n",
    "         '18484':'Sturnus vulgaris',\n",
    "         '20420':'Emberiza citrinella'}\n",
    "\n",
    "observed_birds = ['Dendrocopos major','Chloris chloris','Corvus frugilegus','Coccothraustes coccothraustes'\n",
    ",'Columba palumbus','Delichon urbicum','Apus apus','Sitta europaea','Corvus monedula','Phoenicurus ochruros',\n",
    "'Turdus merula','Turdus pilaris','Passer montanus','Phylloscopus trochilus','Phylloscopus collybita','Phoenicurus phoenicurus',\n",
    "'Motacilla alba','Erithacus rubecula','Streptopelia decaocto','Parus major','Parus caeruleus','Alauda arvensis',\n",
    "'Luscinia luscinia','Garrulus glandarius','Turdus philomelos','Pica pica','Troglodytes troglodytes','Carduelis carduelis',\n",
    "  'Sturnus vulgaris','Emberiza citrinella']\n"
   ]
  },
  {
   "cell_type": "code",
   "execution_count": 30,
   "metadata": {
    "id": "FoteAcWjoy09"
   },
   "outputs": [],
   "source": [
    "#Load the data and extract features for each sound file\n",
    "from glob import glob\n",
    "import os\n",
    "import glob\n",
    "def load_data(test_size=0.33):\n",
    "    x,y=[],[]\n",
    "    answer = 0\n",
    "    for file in glob.glob(r'C:\\Users\\Pooja\\Downloads\\Webapp Project_3\\clean_speech/*.wav'):\n",
    "        file_name=os.path.basename(file)\n",
    "        bird=birds[file_name.split(\"-\")[0]]\n",
    "        feature=extract_feature(file, mfcc=True, chroma=True, mel=True)\n",
    "        x.append(feature)\n",
    "        y.append([bird,file_name])\n",
    "          \n",
    "    return train_test_split(np.array(x), y, test_size=test_size, random_state=9)"
   ]
  },
  {
   "cell_type": "code",
   "execution_count": 31,
   "metadata": {
    "colab": {
     "base_uri": "https://localhost:8080/"
    },
    "id": "hSVGiP4LrP1V",
    "outputId": "d70673fd-4d70-4a1c-8fce-5ff66ceadb13"
   },
   "outputs": [
    {
     "ename": "KeyError",
     "evalue": "'11713'",
     "output_type": "error",
     "traceback": [
      "\u001b[1;31m---------------------------------------------------------------------------\u001b[0m",
      "\u001b[1;31mKeyError\u001b[0m                                  Traceback (most recent call last)",
      "\u001b[1;32m~\\AppData\\Local\\Temp/ipykernel_3744/2881217078.py\u001b[0m in \u001b[0;36m<module>\u001b[1;34m\u001b[0m\n\u001b[0;32m      2\u001b[0m \u001b[1;32mimport\u001b[0m \u001b[0mlibrosa\u001b[0m\u001b[1;33m\u001b[0m\u001b[1;33m\u001b[0m\u001b[0m\n\u001b[0;32m      3\u001b[0m \u001b[1;32mimport\u001b[0m \u001b[0mnumpy\u001b[0m \u001b[1;32mas\u001b[0m \u001b[0mnp\u001b[0m\u001b[1;33m\u001b[0m\u001b[1;33m\u001b[0m\u001b[0m\n\u001b[1;32m----> 4\u001b[1;33m \u001b[0mx_train\u001b[0m\u001b[1;33m,\u001b[0m\u001b[0mx_test\u001b[0m\u001b[1;33m,\u001b[0m\u001b[0my_trai\u001b[0m\u001b[1;33m,\u001b[0m\u001b[0my_tes\u001b[0m\u001b[1;33m=\u001b[0m\u001b[0mload_data\u001b[0m\u001b[1;33m(\u001b[0m\u001b[0mtest_size\u001b[0m\u001b[1;33m=\u001b[0m\u001b[1;36m0.33\u001b[0m\u001b[1;33m)\u001b[0m\u001b[1;33m\u001b[0m\u001b[1;33m\u001b[0m\u001b[0m\n\u001b[0m\u001b[0;32m      5\u001b[0m \u001b[0mprint\u001b[0m\u001b[1;33m(\u001b[0m\u001b[0mnp\u001b[0m\u001b[1;33m.\u001b[0m\u001b[0mshape\u001b[0m\u001b[1;33m(\u001b[0m\u001b[0mx_train\u001b[0m\u001b[1;33m)\u001b[0m\u001b[1;33m,\u001b[0m\u001b[0mnp\u001b[0m\u001b[1;33m.\u001b[0m\u001b[0mshape\u001b[0m\u001b[1;33m(\u001b[0m\u001b[0mx_test\u001b[0m\u001b[1;33m)\u001b[0m\u001b[1;33m,\u001b[0m \u001b[0mnp\u001b[0m\u001b[1;33m.\u001b[0m\u001b[0mshape\u001b[0m\u001b[1;33m(\u001b[0m\u001b[0my_trai\u001b[0m\u001b[1;33m)\u001b[0m\u001b[1;33m,\u001b[0m\u001b[0mnp\u001b[0m\u001b[1;33m.\u001b[0m\u001b[0mshape\u001b[0m\u001b[1;33m(\u001b[0m\u001b[0my_tes\u001b[0m\u001b[1;33m)\u001b[0m\u001b[1;33m)\u001b[0m\u001b[1;33m\u001b[0m\u001b[1;33m\u001b[0m\u001b[0m\n\u001b[0;32m      6\u001b[0m \u001b[0my_test_map\u001b[0m \u001b[1;33m=\u001b[0m \u001b[0mnp\u001b[0m\u001b[1;33m.\u001b[0m\u001b[0marray\u001b[0m\u001b[1;33m(\u001b[0m\u001b[0my_tes\u001b[0m\u001b[1;33m)\u001b[0m\u001b[1;33m.\u001b[0m\u001b[0mT\u001b[0m\u001b[1;33m\u001b[0m\u001b[1;33m\u001b[0m\u001b[0m\n",
      "\u001b[1;32m~\\AppData\\Local\\Temp/ipykernel_3744/98381646.py\u001b[0m in \u001b[0;36mload_data\u001b[1;34m(test_size)\u001b[0m\n\u001b[0;32m      8\u001b[0m     \u001b[1;32mfor\u001b[0m \u001b[0mfile\u001b[0m \u001b[1;32min\u001b[0m \u001b[0mglob\u001b[0m\u001b[1;33m.\u001b[0m\u001b[0mglob\u001b[0m\u001b[1;33m(\u001b[0m\u001b[1;34mr'C:\\Users\\Pooja\\Downloads\\Webapp Project_3\\clean_speech/*.wav'\u001b[0m\u001b[1;33m)\u001b[0m\u001b[1;33m:\u001b[0m\u001b[1;33m\u001b[0m\u001b[1;33m\u001b[0m\u001b[0m\n\u001b[0;32m      9\u001b[0m         \u001b[0mfile_name\u001b[0m\u001b[1;33m=\u001b[0m\u001b[0mos\u001b[0m\u001b[1;33m.\u001b[0m\u001b[0mpath\u001b[0m\u001b[1;33m.\u001b[0m\u001b[0mbasename\u001b[0m\u001b[1;33m(\u001b[0m\u001b[0mfile\u001b[0m\u001b[1;33m)\u001b[0m\u001b[1;33m\u001b[0m\u001b[1;33m\u001b[0m\u001b[0m\n\u001b[1;32m---> 10\u001b[1;33m         \u001b[0mbird\u001b[0m\u001b[1;33m=\u001b[0m\u001b[0mbirds\u001b[0m\u001b[1;33m[\u001b[0m\u001b[0mfile_name\u001b[0m\u001b[1;33m.\u001b[0m\u001b[0msplit\u001b[0m\u001b[1;33m(\u001b[0m\u001b[1;34m\"-\"\u001b[0m\u001b[1;33m)\u001b[0m\u001b[1;33m[\u001b[0m\u001b[1;36m0\u001b[0m\u001b[1;33m]\u001b[0m\u001b[1;33m]\u001b[0m\u001b[1;33m\u001b[0m\u001b[1;33m\u001b[0m\u001b[0m\n\u001b[0m\u001b[0;32m     11\u001b[0m         \u001b[0mfeature\u001b[0m\u001b[1;33m=\u001b[0m\u001b[0mextract_feature\u001b[0m\u001b[1;33m(\u001b[0m\u001b[0mfile\u001b[0m\u001b[1;33m,\u001b[0m \u001b[0mmfcc\u001b[0m\u001b[1;33m=\u001b[0m\u001b[1;32mTrue\u001b[0m\u001b[1;33m,\u001b[0m \u001b[0mchroma\u001b[0m\u001b[1;33m=\u001b[0m\u001b[1;32mTrue\u001b[0m\u001b[1;33m,\u001b[0m \u001b[0mmel\u001b[0m\u001b[1;33m=\u001b[0m\u001b[1;32mTrue\u001b[0m\u001b[1;33m)\u001b[0m\u001b[1;33m\u001b[0m\u001b[1;33m\u001b[0m\u001b[0m\n\u001b[0;32m     12\u001b[0m         \u001b[0mx\u001b[0m\u001b[1;33m.\u001b[0m\u001b[0mappend\u001b[0m\u001b[1;33m(\u001b[0m\u001b[0mfeature\u001b[0m\u001b[1;33m)\u001b[0m\u001b[1;33m\u001b[0m\u001b[1;33m\u001b[0m\u001b[0m\n",
      "\u001b[1;31mKeyError\u001b[0m: '11713'"
     ]
    }
   ],
   "source": [
    "#Split the dataset\n",
    "import librosa\n",
    "import numpy as np\n",
    "x_train,x_test,y_trai,y_tes=load_data(test_size=0.33)\n",
    "print(np.shape(x_train),np.shape(x_test), np.shape(y_trai),np.shape(y_tes))\n",
    "y_test_map = np.array(y_tes).T\n",
    "y_test = y_test_map[0]\n",
    "test_filename = y_test_map[1]\n",
    "y_train_map = np.array(y_trai).T\n",
    "y_train = y_train_map[0]\n",
    "train_filename = y_train_map[1]\n",
    "print(np.shape(y_train),np.shape(y_test))\n",
    "print(*test_filename,sep=\"\\n\")"
   ]
  },
  {
   "cell_type": "code",
   "execution_count": 23,
   "metadata": {
    "colab": {
     "base_uri": "https://localhost:8080/"
    },
    "id": "gsjYHMvxPF3W",
    "outputId": "d8bfc882-1953-4506-a940-6031c8eaa5e3"
   },
   "outputs": [
    {
     "name": "stdout",
     "output_type": "stream",
     "text": [
      "(array([-3.75216583e+02,  9.08760452e+00, -4.05933113e+01,  4.82057648e+01,\n",
      "       -4.29607821e+00, -2.56625509e+00,  1.83580341e+01,  1.40731859e+01,\n",
      "       -2.50447363e-01,  1.26564608e+01,  4.12815094e+00,  1.98092866e+00,\n",
      "        1.38946753e+01,  8.64766407e+00,  4.61264992e+00,  4.86101627e+00,\n",
      "        2.87312341e+00,  1.32341785e+01,  5.41235864e-01,  4.67423058e+00,\n",
      "        6.99411869e+00,  3.02490473e+00,  3.81490541e+00,  5.09836721e+00,\n",
      "        1.04973388e+00,  3.55883813e+00,  1.26024187e+00,  5.45939589e+00,\n",
      "        2.05124140e-01,  3.33283901e+00,  4.82140112e+00,  1.75135136e+00,\n",
      "        6.22917473e-01,  4.11286592e+00,  8.32794487e-01,  1.15797436e+00,\n",
      "        2.35452533e+00, -1.02584314e+00, -4.09764379e-01,  1.61714995e+00,\n",
      "        5.22211850e-01,  6.46062732e-01,  6.75567448e-01,  6.77433014e-01,\n",
      "        6.13461494e-01,  6.18360817e-01,  6.83500350e-01,  5.85923493e-01,\n",
      "        6.06934190e-01,  5.49003541e-01,  4.89795208e-01,  4.88753974e-01,\n",
      "        5.14137208e-01,  3.84781230e-03,  3.70449736e-03,  9.78144235e-04,\n",
      "        1.74266798e-03,  5.57569612e-04,  2.49787088e-04,  1.64988145e-04,\n",
      "        1.04726954e-04,  9.32932307e-04,  3.90739529e-04,  1.60031035e-04,\n",
      "        1.77246082e-04,  1.36199305e-04,  5.32068079e-04,  4.61023767e-04,\n",
      "        2.40117879e-04,  2.99675332e-04,  3.13361496e-04,  2.66604067e-04,\n",
      "        2.20073678e-04,  3.20935651e-04,  3.14429955e-04,  3.00228974e-04,\n",
      "        3.55674390e-04,  3.05833615e-04,  3.31331510e-04,  3.14101373e-04,\n",
      "        2.32040402e-04,  4.91916202e-04,  3.63018160e-04,  2.58134445e-04,\n",
      "        3.81352176e-04,  3.88353597e-04,  4.16232127e-04,  6.55833806e-04,\n",
      "        4.98048263e-04,  5.59862470e-04,  5.68113639e-04,  6.13039068e-04,\n",
      "        5.82188310e-04,  6.19953615e-04,  7.00897304e-04,  6.19999017e-04,\n",
      "        7.17642833e-04,  5.72197954e-04,  5.29755023e-04,  4.59417992e-04,\n",
      "        4.39244730e-04,  3.68676789e-04,  4.08369320e-04,  4.51676780e-04,\n",
      "        4.12938010e-04,  4.39098774e-04,  5.74519043e-04,  1.06627156e-03,\n",
      "        2.47724587e-03,  2.16807779e-02,  9.95256454e-02,  2.50165939e-01,\n",
      "        4.93396312e-01,  5.83986700e-01,  5.93811214e-01,  7.34464943e-01,\n",
      "        9.85871315e-01,  1.03763175e+00,  1.11587417e+00,  1.04220009e+00,\n",
      "        1.10608459e+00,  1.31406128e+00,  1.94717288e+00,  2.88471866e+00,\n",
      "        3.39072657e+00,  4.87248898e+00,  8.05974388e+00,  1.33773689e+01,\n",
      "        1.70901394e+01,  1.72759304e+01,  1.22369347e+01,  7.75826454e+00,\n",
      "        6.80296564e+00,  5.30205679e+00,  2.35900450e+00,  1.55642378e+00,\n",
      "        3.31025276e+01,  3.63339462e+01,  1.24033527e+01,  3.71034932e+00,\n",
      "        1.28999662e+00,  2.75732493e+00,  1.41487541e+01,  3.03732338e+01,\n",
      "        1.06580143e+01,  1.43429351e+00,  2.74571210e-01,  1.97419062e-01,\n",
      "        2.57051975e-01,  3.03309232e-01,  2.72215098e-01,  1.44864425e-01,\n",
      "        1.33949965e-01,  2.74825066e-01,  4.03897643e-01,  5.09990573e-01,\n",
      "        3.70383412e-01,  4.02918845e-01,  1.57026172e-01,  3.08307745e-02,\n",
      "        1.84490494e-02,  1.38438474e-02,  2.23983862e-02,  1.73892491e-02,\n",
      "        1.00896927e-02,  1.14353942e-02,  4.74390620e-03,  2.92981532e-03,\n",
      "        1.75685307e-03,  1.05923333e-03,  7.12311070e-04,  1.21424883e-03,\n",
      "        1.31385820e-03,  6.78061508e-04,  4.47857718e-04,  3.78204975e-04,\n",
      "        2.34897816e-04,  1.33396767e-04,  3.34263605e-05,  1.33647279e-06]), array([-2.59268188e+02, -5.51287880e+01, -5.31530457e+01, -2.72737598e+01,\n",
      "       -7.69925995e+01, -2.07524033e+01, -3.76178665e+01, -9.43202686e+00,\n",
      "       -1.51035299e+01, -4.73331735e-02,  6.70647144e+00,  8.39842415e+00,\n",
      "        4.76495218e+00,  1.46639662e+01,  5.93935966e+00,  1.31992264e+01,\n",
      "       -1.78917050e+00,  1.16755705e+01, -2.62543058e+00,  1.52823496e+00,\n",
      "       -2.93454456e+00,  2.57022786e+00, -5.47176218e+00, -7.83896029e-01,\n",
      "       -4.82488871e+00,  8.49245846e-01, -7.71453476e+00,  1.30192339e+00,\n",
      "       -2.53996158e+00,  1.76578104e+00, -5.01874065e+00,  3.94628525e+00,\n",
      "       -1.87779605e+00,  3.88257909e+00, -3.57323599e+00,  6.22691202e+00,\n",
      "       -3.30424762e+00,  2.16594338e+00, -6.50556564e-01,  3.27996087e+00,\n",
      "        6.49503887e-01,  6.00311160e-01,  5.52739799e-01,  4.89296407e-01,\n",
      "        4.19958413e-01,  4.11321878e-01,  5.01138270e-01,  5.25011897e-01,\n",
      "        5.27161837e-01,  5.34698904e-01,  4.82018858e-01,  4.31738496e-01,\n",
      "        2.97448241e-06,  4.64671803e-06,  5.23915151e-06,  3.23586119e-06,\n",
      "        2.01146622e-06,  2.22364770e-06,  1.75316154e-06,  1.92461084e-06,\n",
      "        2.68445615e-06,  3.08698623e-06,  6.29758460e-06,  2.40503523e-05,\n",
      "        1.15957737e-04,  4.79715294e-04,  1.32001447e-03,  2.92613194e-03,\n",
      "        6.94118021e-03,  1.21622896e-02,  1.84512120e-02,  2.45591383e-02,\n",
      "        2.38096993e-02,  2.61020325e-02,  3.12101375e-02,  3.18088457e-02,\n",
      "        3.17122005e-02,  3.12059391e-02,  2.80696172e-02,  2.29585376e-02,\n",
      "        2.25214250e-02,  2.20357534e-02,  2.20992714e-02,  2.20061075e-02,\n",
      "        1.98988561e-02,  2.09166352e-02,  1.97056141e-02,  1.91172473e-02,\n",
      "        1.68613177e-02,  1.66211538e-02,  1.93333440e-02,  1.45195443e-02,\n",
      "        1.24301268e-02,  9.96547285e-03,  1.03433765e-02,  1.20240087e-02,\n",
      "        1.27899377e-02,  1.19999023e-02,  1.03469007e-02,  1.12627037e-02,\n",
      "        1.09849144e-02,  1.03065735e-02,  9.38283466e-03,  8.86127446e-03,\n",
      "        8.06521624e-03,  8.42615683e-03,  9.07445140e-03,  8.13531596e-03,\n",
      "        7.32036727e-03,  6.70592394e-03,  7.15276087e-03,  5.59059996e-03,\n",
      "        5.71088586e-03,  5.74220298e-03,  5.31110307e-03,  5.85142709e-03,\n",
      "        5.82612446e-03,  5.00839343e-03,  4.62928088e-03,  4.29134304e-03,\n",
      "        4.36808215e-03,  4.49255435e-03,  7.97375571e-03,  7.12001547e-02,\n",
      "        9.61221874e-01,  1.36537266e+00,  7.92810380e-01,  4.21585411e-01,\n",
      "        3.51537555e-01,  3.52979302e-01,  6.75274491e-01,  9.79836345e-01,\n",
      "        9.68298972e-01,  9.95138288e-01,  9.00165737e-01,  1.27773273e+00,\n",
      "        9.51739609e-01,  1.26750755e+00,  1.83582246e+00,  3.05465436e+00,\n",
      "        4.83949947e+00,  1.00451689e+01,  1.23282938e+01,  1.08719254e+01,\n",
      "        5.42479849e+00,  3.93950009e+00,  6.36527777e+00,  7.68200827e+00,\n",
      "        7.23725033e+00,  1.96709251e+01,  9.94734859e+00,  7.06276178e-01,\n",
      "        1.67162359e+00,  5.07912350e+00,  3.53656197e+00,  3.24109507e+00,\n",
      "        2.59470582e+00,  2.02287602e+00,  5.74175262e+00,  2.75761604e+00,\n",
      "        1.00254679e+00,  6.66671574e-01,  6.54145360e-01,  3.35634261e-01,\n",
      "        7.24856257e-02,  5.59563935e-02,  2.73230791e-01,  1.85364175e+00,\n",
      "        5.75820923e+00,  5.05172491e+00,  8.91029686e-02,  3.95723507e-02,\n",
      "        4.03642915e-02,  5.44009745e-01,  2.32111430e+00,  1.70515406e+00,\n",
      "        5.96085452e-02,  5.76424832e-03,  5.80405875e-04,  2.95179398e-05]))\n",
      "Features extracted: 180\n"
     ]
    }
   ],
   "source": [
    "#Get the shape of the training and testing datasets\n",
    "# print((x_train.shape[0], x_test.shape[0]))\n",
    "print((x_train[0], x_test[0]))\n",
    "#Get the number of features extracted\n",
    "print(f'Features extracted: {x_train.shape[1]}')"
   ]
  },
  {
   "cell_type": "code",
   "execution_count": 24,
   "metadata": {
    "id": "71es215WPF5W"
   },
   "outputs": [],
   "source": [
    "# Initialize the Multi Layer Perceptron Classifier\n",
    "model=MLPClassifier(alpha=0.01, batch_size=256, epsilon=1e-08, hidden_layer_sizes=(300,), learning_rate='adaptive', max_iter=500)"
   ]
  },
  {
   "cell_type": "code",
   "execution_count": 25,
   "metadata": {
    "colab": {
     "base_uri": "https://localhost:8080/"
    },
    "id": "7n88os-SPF7Q",
    "outputId": "822f50c9-2b19-4b46-dd5c-ce0f45fc5b54"
   },
   "outputs": [
    {
     "name": "stderr",
     "output_type": "stream",
     "text": [
      "C:\\Users\\Pooja\\miniconda3\\envs\\DL04\\lib\\site-packages\\sklearn\\neural_network\\_multilayer_perceptron.py:612: UserWarning: Got `batch_size` less than 1 or larger than sample size. It is going to be clipped\n",
      "  \"Got `batch_size` less than 1 or larger than \"\n"
     ]
    },
    {
     "data": {
      "text/plain": [
       "MLPClassifier(alpha=0.01, batch_size=256, hidden_layer_sizes=(300,),\n",
       "              learning_rate='adaptive', max_iter=500)"
      ]
     },
     "execution_count": 25,
     "metadata": {},
     "output_type": "execute_result"
    }
   ],
   "source": [
    "#Train the model\n",
    "model.fit(x_train,y_train)"
   ]
  },
  {
   "cell_type": "code",
   "execution_count": 26,
   "metadata": {
    "id": "1-DEkCoLPF9O"
   },
   "outputs": [],
   "source": [
    "#SAVING THE MODEL\n",
    "import pickle\n",
    "# Save the Modle to file in the current working directory\n",
    "#For any new testing data other than the data in dataset\n",
    "\n",
    "Pkl_Filename = \"Bird_Voice_Detection_Model.pkl\"  \n",
    "\n",
    "with open(Pkl_Filename, 'wb') as file:  \n",
    "    pickle.dump(model, file)"
   ]
  },
  {
   "cell_type": "code",
   "execution_count": 27,
   "metadata": {
    "colab": {
     "base_uri": "https://localhost:8080/"
    },
    "id": "yHP0ONniPGCH",
    "outputId": "a4329de9-1a3a-454e-9add-87e4e5f6c874"
   },
   "outputs": [
    {
     "data": {
      "text/plain": [
       "MLPClassifier(alpha=0.01, batch_size=256, hidden_layer_sizes=(300,),\n",
       "              learning_rate='adaptive', max_iter=500)"
      ]
     },
     "execution_count": 27,
     "metadata": {},
     "output_type": "execute_result"
    }
   ],
   "source": [
    "# Load the Model back from file\n",
    "with open(Pkl_Filename, 'rb') as file:  \n",
    "    Emotion_Voice_Detection_Model = pickle.load(file)\n",
    "\n",
    "Emotion_Voice_Detection_Model"
   ]
  },
  {
   "cell_type": "code",
   "execution_count": 28,
   "metadata": {
    "colab": {
     "base_uri": "https://localhost:8080/"
    },
    "id": "EjOWuHgjPGEg",
    "outputId": "83d535ab-2375-4b78-8560-8890a4391e29"
   },
   "outputs": [
    {
     "data": {
      "text/plain": [
       "array([[-2.59268188e+02, -5.51287880e+01, -5.31530457e+01, ...,\n",
       "         5.76424832e-03,  5.80405875e-04,  2.95179398e-05],\n",
       "       [-3.13150543e+02,  1.39984818e+01, -8.04030685e+01, ...,\n",
       "         1.46586724e-04,  4.00798235e-05,  3.99388227e-06],\n",
       "       [-3.80276215e+02, -1.99838009e+01, -6.28202362e+01, ...,\n",
       "         3.38138576e-04,  1.12091053e-04,  1.45811964e-05],\n",
       "       ...,\n",
       "       [-1.83989410e+02, -3.72470856e+01, -1.25865524e+02, ...,\n",
       "         3.37081701e-02,  1.37956394e-02,  5.64863323e-04],\n",
       "       [-3.10141052e+02, -5.84712029e+01, -2.80029354e+01, ...,\n",
       "         1.20338522e-01,  1.87553614e-02,  7.28610205e-04],\n",
       "       [-4.21299408e+02, -7.52609482e+01,  2.51218185e+01, ...,\n",
       "         8.71720552e-01,  1.01649165e-01,  4.05945210e-03]])"
      ]
     },
     "execution_count": 28,
     "metadata": {},
     "output_type": "execute_result"
    }
   ],
   "source": [
    "x_test"
   ]
  },
  {
   "cell_type": "code",
   "execution_count": 29,
   "metadata": {
    "colab": {
     "base_uri": "https://localhost:8080/"
    },
    "id": "msyGgBgaPGIi",
    "outputId": "c6e7c741-e58e-4cb4-fc70-cdb4de7b3ded"
   },
   "outputs": [
    {
     "data": {
      "text/plain": [
       "array(['14426', '18483', '18484', '12996', '13610', '14442', '14213',\n",
       "       '18125', '14518', '13164', '13164', '14442', '18125', '14172',\n",
       "       '14212', '18388', '18344', '14213', '15269', '18125', '13609',\n",
       "       '18387', '14213', '14518', '11846', '13608', '11846', '12577',\n",
       "       '14212', '12876', '18344', '13608', '20420', '11846', '15245',\n",
       "       '13608', '14231', '13609', '20420', '18247', '12577', '15269',\n",
       "       '11846', '11713', '12578', '14426', '12578', '13608', '11713',\n",
       "       '13602', '14231', '13164', '14212', '12876', '13610', '18484',\n",
       "       '18483', '14172', '13602', '18387', '13608', '18387', '14213',\n",
       "       '12996', '14426', '18484', '12996', '18344', '14442', '11846',\n",
       "       '11713', '12876', '18344', '14844', '13602', '12996', '14844',\n",
       "       '13602', '20420', '15245', '18125', '18388', '20420', '18247',\n",
       "       '14426', '18344', '14231', '12577', '14213', '13608', '15270',\n",
       "       '14426', '18344', '14172', '14172', '15269', '18344', '12577',\n",
       "       '14426', '14212', '12578', '13610', '18484', '12578', '15269',\n",
       "       '14213', '18125', '14231', '11846', '18125', '14231', '20420',\n",
       "       '13164', '18344', '18344', '18344', '12876', '18388', '18483',\n",
       "       '14442', '13164', '14426', '18387'], dtype='<U5')"
      ]
     },
     "execution_count": 29,
     "metadata": {},
     "output_type": "execute_result"
    }
   ],
   "source": [
    "#predicting :\n",
    "y_pred=Emotion_Voice_Detection_Model.predict(x_test)\n",
    "y_pred"
   ]
  },
  {
   "cell_type": "code",
   "execution_count": 143,
   "metadata": {
    "colab": {
     "base_uri": "https://localhost:8080/"
    },
    "id": "evdwLUwX83qr",
    "outputId": "da8b472b-712b-40e2-c811-43de8f127d58"
   },
   "outputs": [
    {
     "name": "stdout",
     "output_type": "stream",
     "text": [
      "    predictions    file_names\n",
      "0         14442  14442-12.wav\n",
      "1         13608   13608-5.wav\n",
      "2         15245   15245-3.wav\n",
      "3         12876   13164-0.wav\n",
      "4         12996   12996-3.wav\n",
      "..          ...           ...\n",
      "116       15245   15245-2.wav\n",
      "117       14844   14844-4.wav\n",
      "118       18125  13602-11.wav\n",
      "119       11846   12996-5.wav\n",
      "120       15269  15269-11.wav\n",
      "\n",
      "[121 rows x 2 columns]\n"
     ]
    }
   ],
   "source": [
    "#Store the Prediction probabilities into CSV file \n",
    "import numpy as np\n",
    "import pandas as pd\n",
    "y_pred1 = pd.DataFrame(y_pred, columns=['predictions'])\n",
    "y_pred1['file_names'] = test_filename\n",
    "print(y_pred1)\n",
    "y_pred1.to_csv('predictionfinal.csv')"
   ]
  },
  {
   "cell_type": "code",
   "execution_count": null,
   "metadata": {
    "id": "Nl37HJsDE7J8"
   },
   "outputs": [],
   "source": []
  }
 ],
 "metadata": {
  "colab": {
   "provenance": []
  },
  "kernelspec": {
   "display_name": "Python 3 (ipykernel)",
   "language": "python",
   "name": "python3"
  },
  "language_info": {
   "codemirror_mode": {
    "name": "ipython",
    "version": 3
   },
   "file_extension": ".py",
   "mimetype": "text/x-python",
   "name": "python",
   "nbconvert_exporter": "python",
   "pygments_lexer": "ipython3",
   "version": "3.7.1"
  }
 },
 "nbformat": 4,
 "nbformat_minor": 1
}
